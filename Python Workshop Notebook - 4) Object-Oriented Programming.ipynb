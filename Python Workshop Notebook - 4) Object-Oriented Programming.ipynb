{
 "cells": [
  {
   "cell_type": "code",
   "execution_count": null,
   "metadata": {},
   "outputs": [],
   "source": [
    "import numpy as np\n",
    "import pandas as pd\n",
    "import matplotlib.pyplot as plt"
   ]
  },
  {
   "cell_type": "markdown",
   "metadata": {},
   "source": [
    "#### Loan Payment & Amortization Functions"
   ]
  },
  {
   "cell_type": "markdown",
   "metadata": {},
   "source": [
    "Recall our previous loan payment calculator and amortization schedule functions. So far everything we've done has been under a functional programming framework (although, we've been benefiting from objects under the hood, we just haven't created our own, yet)."
   ]
  },
  {
   "cell_type": "code",
   "execution_count": null,
   "metadata": {},
   "outputs": [],
   "source": [
    "def calculate_loan_payment(loan_balance, annual_rate, term):\n",
    "    period = term * 12\n",
    "    effective_rate = annual_rate / 12.\n",
    "    vn = (1. + effective_rate)**-period\n",
    "    loan_payment = loan_balance * effective_rate / (1. - vn)\n",
    "    return round(loan_payment, 2) \n",
    "\n",
    "def amortization_schedule(loan_balance, annual_rate, term):\n",
    "    ###WRITE CODE HERE\n",
    "    \n",
    "    \n",
    "    \n",
    "    schedule = pd.DataFrame(schedule, columns = ('period', 'start_Balance', 'payment', 'interest', 'principle', 'end_Balance'))\n",
    "    schedule = schedule.set_index('period')\n",
    "    return schedule"
   ]
  },
  {
   "cell_type": "markdown",
   "metadata": {},
   "source": [
    "#### Loan Object\n",
    "Now lets consider wrapping what we did in an object-oriented programming (OOP) framework. Objects / Classes are very useful when we have multiple functions that all manipulate a common set of data. OOP allows us to _binds_ data and its relevant functions together into '__object states__'. \n",
    "\n",
    "Data that are bound in a class are called object __attributes__. Functions bound to a class are object __methods__."
   ]
  },
  {
   "cell_type": "code",
   "execution_count": null,
   "metadata": {},
   "outputs": [],
   "source": [
    "class LoanClass():\n",
    "    ###WRITE CODE HERE\n",
    "    \n",
    "    \n",
    "    \n",
    "    \n"
   ]
  },
  {
   "cell_type": "code",
   "execution_count": null,
   "metadata": {
    "scrolled": true
   },
   "outputs": [],
   "source": [
    "l = LoanClass(loan_balance = 500000, annual_rate = .04, term = 30)\n",
    "l.amortization_schedule()"
   ]
  },
  {
   "cell_type": "markdown",
   "metadata": {},
   "source": [
    "#### Loan Portfolio Object\n",
    "Now that we have a loan defined, lets define a new class that represents a portfolio of many loans."
   ]
  },
  {
   "cell_type": "code",
   "execution_count": null,
   "metadata": {},
   "outputs": [],
   "source": [
    "class PortfolioClass():\n",
    "    ###WRITE CODE HERE\n",
    "    \n",
    "    "
   ]
  },
  {
   "cell_type": "markdown",
   "metadata": {},
   "source": [
    "This class relies on having loan objects, so lets assert an error if that does not happen"
   ]
  },
  {
   "cell_type": "code",
   "execution_count": null,
   "metadata": {},
   "outputs": [],
   "source": [
    "class PortfolioClass():\n",
    "    ###WRITE CODE HERE\n",
    "    \n",
    "    \n",
    "    "
   ]
  },
  {
   "cell_type": "markdown",
   "metadata": {},
   "source": [
    "Every python object has native methods that begin and end with double underscores, and therefore are also endearingly called __dunder methods__. When defining our own class, we can change how the object behaves / interacts with native python functions by defining the objects dunder methods. __'init'__ is a dunder method."
   ]
  },
  {
   "cell_type": "code",
   "execution_count": null,
   "metadata": {},
   "outputs": [],
   "source": [
    "class PortfolioClass():\n",
    "    ###WRITE CODE HERE\n",
    "    \n",
    "    \n",
    "    "
   ]
  },
  {
   "cell_type": "markdown",
   "metadata": {},
   "source": [
    "What are some other methods that can be useful for a loan portfolio?"
   ]
  },
  {
   "cell_type": "code",
   "execution_count": null,
   "metadata": {},
   "outputs": [],
   "source": []
  }
 ],
 "metadata": {
  "kernelspec": {
   "display_name": "Python 3",
   "language": "python",
   "name": "python3"
  },
  "language_info": {
   "codemirror_mode": {
    "name": "ipython",
    "version": 3
   },
   "file_extension": ".py",
   "mimetype": "text/x-python",
   "name": "python",
   "nbconvert_exporter": "python",
   "pygments_lexer": "ipython3",
   "version": "3.7.3"
  }
 },
 "nbformat": 4,
 "nbformat_minor": 2
}
