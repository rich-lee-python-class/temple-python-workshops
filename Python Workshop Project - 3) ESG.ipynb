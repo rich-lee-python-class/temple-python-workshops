{
 "cells": [
  {
   "cell_type": "markdown",
   "metadata": {},
   "source": [
    "## 3) Build an Interest Rate ESG\n",
    "Our objective is to first build a model fit to historical treasury yields, then use it to simulate future yeilds by adding random noise. To acheive this, we will be using a very comprehensive statistical package for python, 'statsmodels'."
   ]
  },
  {
   "cell_type": "code",
   "execution_count": null,
   "metadata": {},
   "outputs": [],
   "source": [
    "import numpy as np\n",
    "import pandas as pd\n",
    "import matplotlib.pyplot as plt"
   ]
  },
  {
   "cell_type": "markdown",
   "metadata": {},
   "source": [
    "#### Load Historical Treasury Rates\n",
    "Recall the historical treasury rate dataset we cleaned before."
   ]
  },
  {
   "cell_type": "markdown",
   "metadata": {},
   "source": [
    "#### TASK 0\n",
    "Load in the cleaned historical treasury yield curve dataset from last week."
   ]
  },
  {
   "cell_type": "code",
   "execution_count": null,
   "metadata": {},
   "outputs": [],
   "source": [
    "treasury_frame = \n",
    "treasury_frame.head()"
   ]
  },
  {
   "cell_type": "code",
   "execution_count": null,
   "metadata": {},
   "outputs": [],
   "source": [
    "###What is the shape of this dataset, and how to interpret?\n",
    "treasury_frame.shape"
   ]
  },
  {
   "attachments": {
    "image.png": {
     "image/png": "[encoded data removed]"
    }
   },
   "cell_type": "markdown",
   "metadata": {},
   "source": [
    "#### Yield Curve Fitting\n",
    "We will use Nelson-Siegal model to estimate the yield curve, then simulate the beta coefficients. \n",
    "\n",
    "The below equation gives the yield _y_ for a Treasury maturing at time _t_. _y(t)_ for _t_ ranging from 3-months to 30-years makes up one yield curve. Yield curves will vary from day-to-day as market prices of treasury bonds change.\n",
    "\n",
    "![image.png](attachment:image.png)\n",
    "\n",
    "To make things easier, we will fix the parameter alpha = 1.4, which will turn the NS factors into constants for each tenor."
   ]
  },
  {
   "cell_type": "markdown",
   "metadata": {},
   "source": [
    "#### TASK 1\n",
    "\n",
    "If lambda is fixed, then the expressions multiplying with the beta coefficients only vary by t. Let's call them the NS factors. Write a function that returns the NS factors to our Nelson-Siegal model for a given list of tenors."
   ]
  },
  {
   "cell_type": "code",
   "execution_count": null,
   "metadata": {},
   "outputs": [],
   "source": [
    "tenors = np.array([1. / 12., 3. / 12, 6. / 12, 1., 2., 3., 5., 7., 10., 20., 30.])\n",
    "\n",
    "def NS_factors_function(tenors, alpha = 1.4):\n",
    "    ###WRITE CODE HERE\n",
    "    \n",
    "    \n",
    "    \n",
    "    \n",
    "    return NS_factors\n",
    "\n",
    "NS_factors_function(tenors)"
   ]
  },
  {
   "cell_type": "code",
   "execution_count": null,
   "metadata": {},
   "outputs": [],
   "source": [
    "###Save these factors for use later by storing in a dataframe\n",
    "NS_factors = NS_factors_function(tenors)\n",
    "pd.DataFrame(NS_factors, columns = ['X0', 'X1', 'X2'])"
   ]
  },
  {
   "attachments": {
    "image.png": {
     "image/png": "[encoded data removed]"
    }
   },
   "cell_type": "markdown",
   "metadata": {},
   "source": [
    "Our Nelson-Siegal model now looks something like this (look familiar?):\n",
    "![image.png](attachment:image.png)"
   ]
  },
  {
   "cell_type": "markdown",
   "metadata": {},
   "source": [
    "#### Linear Regression\n",
    "We will use a OLS regression to estimate the beta coefficients of our Nelson-Siegal model, fitting to history."
   ]
  },
  {
   "cell_type": "markdown",
   "metadata": {},
   "source": [
    "#### TASK 2\n",
    "\n",
    "Fit a linear regression to a single historical yeild curve."
   ]
  },
  {
   "cell_type": "code",
   "execution_count": null,
   "metadata": {},
   "outputs": [],
   "source": [
    "treasury_frame.values[0, :]"
   ]
  },
  {
   "cell_type": "code",
   "execution_count": null,
   "metadata": {},
   "outputs": [],
   "source": [
    "from statsmodels.api import OLS\n",
    "\n",
    "model =     ###WRITE CODE HERE\n",
    "\n",
    "\n"
   ]
  },
  {
   "cell_type": "markdown",
   "metadata": {},
   "source": [
    "Lets visually examine the regression to see how well it fit to the historical yeild curve."
   ]
  },
  {
   "cell_type": "code",
   "execution_count": null,
   "metadata": {},
   "outputs": [],
   "source": [
    "###WRITE CODE HERE\n",
    "\n",
    "\n"
   ]
  },
  {
   "cell_type": "markdown",
   "metadata": {},
   "source": [
    "#### TASK 3\n",
    "Wrap what we just did in task 2 into functions, so that it can be easily applied to our entire dataset."
   ]
  },
  {
   "cell_type": "code",
   "execution_count": null,
   "metadata": {},
   "outputs": [],
   "source": [
    "def NS_model_fit(historical_yields, NS_factors):\n",
    "    ###WRITE CODE HERE\n",
    "    \n",
    "    \n",
    "    \n",
    "    return betas\n",
    "\n",
    "\n",
    "def NS_model_curve(betas, NS_factors):    \n",
    "    ###WRITE CODE HERE\n",
    "    \n",
    "    \n",
    "    \n",
    "    return model_curve\n",
    "\n",
    "    \n",
    "def plot_NS_yield_curve(NS_curve, historical_curve = None, tenors = tenors):\n",
    "    ###WRITE CODE HERE\n",
    "    \n",
    "    \n",
    "    "
   ]
  },
  {
   "cell_type": "code",
   "execution_count": null,
   "metadata": {},
   "outputs": [],
   "source": [
    "betas = NS_model_fit(treasury_frame.values[0, :], NS_factors)\n",
    "print(betas)\n",
    "\n",
    "model_curve = NS_model_curve(betas, NS_factors)\n",
    "print(model_curve)\n",
    "\n",
    "plot_NS_yield_curve(model_curve, treasury_frame.values[0, :])"
   ]
  },
  {
   "cell_type": "markdown",
   "metadata": {},
   "source": [
    "#### TASK 4\n",
    "Loop through all historical yield curves to estimate a set of betas for each historical yield curve using the functions we created in task 3."
   ]
  },
  {
   "cell_type": "code",
   "execution_count": null,
   "metadata": {},
   "outputs": [],
   "source": [
    "###WRITE CODE HERE\n",
    "    \n",
    "    \n",
    "    "
   ]
  },
  {
   "cell_type": "markdown",
   "metadata": {},
   "source": [
    "Lets spot check a few curves. Do they look good?"
   ]
  },
  {
   "cell_type": "code",
   "execution_count": null,
   "metadata": {
    "scrolled": false
   },
   "outputs": [],
   "source": [
    "for i in [0, 100, 1000, -1000, -100, -1]:\n",
    "    plot_NS_yield_curve()"
   ]
  },
  {
   "cell_type": "markdown",
   "metadata": {},
   "source": [
    "#### Forecasting Beta Coefficients\n",
    "We now obtained historical time series of each beta coefficient for the NS-model. Now we will build a model that can forecast future betas. To do this, we will use a Vector Auto-Regressive (VAR) Model. "
   ]
  },
  {
   "attachments": {
    "image.png": {
     "image/png": "[encoded data removed]"
    }
   },
   "cell_type": "markdown",
   "metadata": {},
   "source": [
    "![image.png](attachment:image.png)"
   ]
  },
  {
   "cell_type": "markdown",
   "metadata": {},
   "source": [
    "#### TASK 5\n",
    "Fit a VAR model to our historical beta coefficients obtained from Task 4. Then forecast betas for the next year (250 trading days) in the future."
   ]
  },
  {
   "cell_type": "code",
   "execution_count": null,
   "metadata": {
    "scrolled": false
   },
   "outputs": [],
   "source": [
    "from statsmodels.tsa.api import VAR\n",
    "\n",
    "VAR_model =     ###WRITE CODE HERE\n",
    "    \n",
    "    \n",
    "    \n",
    "print(f'VAR Lag Order: {VAR_model.k_ar}')\n",
    "VAR_model.summary()"
   ]
  },
  {
   "cell_type": "code",
   "execution_count": null,
   "metadata": {},
   "outputs": [],
   "source": [
    "###Forecast future beta values for next year\n",
    "\n",
    "\n",
    "\n",
    "\n"
   ]
  },
  {
   "cell_type": "code",
   "execution_count": null,
   "metadata": {},
   "outputs": [],
   "source": [
    "###Splot check a few forecasted yield curves using the forecasted betas\n",
    "\n",
    "\n",
    "\n"
   ]
  },
  {
   "cell_type": "markdown",
   "metadata": {},
   "source": [
    "#### Simulation\n",
    "Our VAR model can now produce forecasts of the __expected path__ for each beta coefficient in the NS-model. To turn these forecasts into simulations, we need to add randomness to the VAR predictions. This will give us a __distribution__ of future paths, _aka_ stochastic simulation."
   ]
  },
  {
   "cell_type": "markdown",
   "metadata": {},
   "source": [
    "#### TASK 6\n",
    "\n",
    "Simulate __10000 trials__ of yield curves for __250 days__, with each yield curve described by __3 beta coefficients__ of a NS-model. Plot the generated time series of betas and visually inspect results for reasonableness."
   ]
  },
  {
   "cell_type": "code",
   "execution_count": null,
   "metadata": {},
   "outputs": [],
   "source": [
    "###To do simulation, we need to generate some random draws from a multivariate normal distribution\n",
    "\n",
    "\n",
    "\n"
   ]
  },
  {
   "cell_type": "code",
   "execution_count": null,
   "metadata": {
    "scrolled": false
   },
   "outputs": [],
   "source": [
    "def plot_beta_time_series(beta_series):\n",
    "    ###WRITE CODE HERE\n",
    "    \n",
    "    \n",
    "    \n",
    "plot_beta_time_series(forecasted_NS_betas)"
   ]
  },
  {
   "cell_type": "code",
   "execution_count": null,
   "metadata": {
    "scrolled": false
   },
   "outputs": [],
   "source": [
    "###Lets spot check a few scenarios\n",
    "plot_beta_time_series(simulated_NS_betas[1, :, :])\n",
    "plot_beta_time_series(simulated_NS_betas[10, :, :])\n",
    "plot_beta_time_series(simulated_NS_betas[100, :, :])\n",
    "plot_beta_time_series(simulated_NS_betas[-11, :, :])"
   ]
  },
  {
   "cell_type": "markdown",
   "metadata": {},
   "source": [
    "#### TASK 7\n",
    "Turn the simulation of betas from Task 6 into simulations of yield curves."
   ]
  },
  {
   "cell_type": "code",
   "execution_count": null,
   "metadata": {},
   "outputs": [],
   "source": [
    "###Lets spot check a few yield curves\n",
    "plot_NS_yield_curve(NS_curve = NS_model_curve(simulated_NS_betas[0, 30, :], NS_factors))\n",
    "plot_NS_yield_curve(NS_curve = NS_model_curve(simulated_NS_betas[0, 120, :], NS_factors))\n",
    "plot_NS_yield_curve(NS_curve = NS_model_curve(simulated_NS_betas[1000, 30, :], NS_factors))\n",
    "plot_NS_yield_curve(NS_curve = NS_model_curve(simulated_NS_betas[1000, 200, :], NS_factors))"
   ]
  },
  {
   "cell_type": "code",
   "execution_count": null,
   "metadata": {},
   "outputs": [],
   "source": [
    "simulated_yield_curves = np.empty((500, 250, 11)) #cutting down on the sample to run faster\n",
    "simulated_yield_curves[:] = np.nan\n",
    "\n",
    "###WRITE CODE HERE\n",
    "    \n",
    "    \n",
    "    \n",
    "\n",
    "\n"
   ]
  },
  {
   "cell_type": "markdown",
   "metadata": {},
   "source": [
    "#### TASK 8\n",
    "Plot the distribution of simulated 10 year treasury yields. How does it compare to the historical distribution?"
   ]
  },
  {
   "cell_type": "code",
   "execution_count": null,
   "metadata": {},
   "outputs": [],
   "source": [
    "###WRITE CODE HERE\n",
    "\n",
    "\n",
    "\n"
   ]
  },
  {
   "cell_type": "markdown",
   "metadata": {},
   "source": [
    "#### TASK 9\n",
    "What is the average correlation between 1-month treasury and 30-year treasury yields according to our simulation? How does this value compare to history? What is its distribution?"
   ]
  },
  {
   "cell_type": "code",
   "execution_count": null,
   "metadata": {},
   "outputs": [],
   "source": [
    "###WRITE CODE HERE\n",
    "\n",
    "\n",
    "\n"
   ]
  },
  {
   "cell_type": "code",
   "execution_count": null,
   "metadata": {},
   "outputs": [],
   "source": []
  }
 ],
 "metadata": {
  "kernelspec": {
   "display_name": "Python 3",
   "language": "python",
   "name": "python3"
  },
  "language_info": {
   "codemirror_mode": {
    "name": "ipython",
    "version": 3
   },
   "file_extension": ".py",
   "mimetype": "text/x-python",
   "name": "python",
   "nbconvert_exporter": "python",
   "pygments_lexer": "ipython3",
   "version": "3.7.3"
  }
 },
 "nbformat": 4,
 "nbformat_minor": 2
}
